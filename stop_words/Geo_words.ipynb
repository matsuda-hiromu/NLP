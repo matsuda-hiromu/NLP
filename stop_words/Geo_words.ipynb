{
 "cells": [
  {
   "cell_type": "markdown",
   "metadata": {},
   "source": [
    "- pdf変換だとなぜか取り出せない\n",
    "- http://www.gsi.go.jp/kihonjohochousa/gazetteer.html\n",
    "- 仕方ないので、次の方法を取った。\n",
    "  - pdfを開き、全選択コピーして、テキストファイルに貼りつける\n",
    "  - 都合よく１行１単語になるので、順番に読み込む\n",
    "  - カタカナ or 漢字のみを取り出す\n",
    "  - ()は別の単語として保存\n",
    "\n",
    "## ひらがな、カタカナ、漢字判定\n",
    "- https://qiita.com/mhangyo/items/c567f93b0e20b2e6af04\n",
    "- https://so-zou.jp/software/tech/programming/tech/regular-expression/meta-character/variable-width-encoding.htm\n",
    "\n",
    "## pdfminer\n",
    "- https://github.com/pdfminer/pdfminer.six\n",
    "- http://irukanobox.blogspot.com/2017/03/python3pdf.html"
   ]
  },
  {
   "cell_type": "code",
   "execution_count": 41,
   "metadata": {},
   "outputs": [],
   "source": [
    "import csv\n",
    "import regex\n",
    "def scanner(fname):\n",
    "  words = []\n",
    "  with open(fname,encoding='utf-8') as f:\n",
    "    cells = f.read().splitlines()\n",
    "  words = []\n",
    "  \n",
    "  #単語抽出　\n",
    "  for i,cell in enumerate(cells):\n",
    "    #文字列の先頭と末尾から削除\n",
    "    cell = cell.strip()\n",
    "    #例外処理　\n",
    "    if cell in ['「地名集日本2007」更新リスト (2018年3月6日現在)',\"追加\",\"修正\",\"削除\"]:\n",
    "      continue\n",
    "    #地名判定\n",
    "    if regex.findall(r'\\p{Han}+',cell) != [] or regex.findall(r'\\p{Katakana}+',cell) != [] :\n",
    "      words += cell.replace(\")\",\"\").split(\"(\")\n",
    "  return words\n",
    "    \n",
    "\n",
    "def main():\n",
    "  allwords = []\n",
    "  allwords += scanner('../2018.txt')\n",
    "  allwords += scanner('../2007.txt')\n",
    "  \n",
    "  with open(\"geo.csv\",\"w\") as outcsv:\n",
    "    writer = csv.writer(outcsv)\n",
    "    writer.writerow(allwords)\n",
    "    \n",
    "main()"
   ]
  }
 ],
 "metadata": {
  "kernelspec": {
   "display_name": "Python 3",
   "language": "python",
   "name": "python3"
  },
  "language_info": {
   "codemirror_mode": {
    "name": "ipython",
    "version": 3
   },
   "file_extension": ".py",
   "mimetype": "text/x-python",
   "name": "python",
   "nbconvert_exporter": "python",
   "pygments_lexer": "ipython3",
   "version": "3.7.0"
  }
 },
 "nbformat": 4,
 "nbformat_minor": 2
}
