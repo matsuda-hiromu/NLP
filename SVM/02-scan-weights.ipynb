{
 "cells": [
  {
   "cell_type": "markdown",
   "metadata": {},
   "source": [
    "## liblinearの操作\n",
    "### インストール\n",
    "\n",
    "```\n",
    "$ sudo apt install liblinear-tools\n",
    "もしくは\n",
    "$ git clone https://github.com/cjlin1/liblinear.git\n",
    "```\n",
    "\n",
    "### 学習\n",
    "- オプションはロジスティック回帰にするためのオプション\n",
    "- 上限値を用意したほうがよいとき or 確率的に扱いたいときに用いる\n",
    "\n",
    "```\n",
    "$ liblinear-train -s 0 <教師データファイル名>\n",
    "$ liblinear-train -s 0 train.data\n",
    "```\n",
    "\n",
    "### 予想テスト\n",
    "- オプションはロジスティック回帰にするためのオプション\n",
    "- 本来は学習(教師)データ,テストデータと分けたほうがよい\n",
    "\n",
    "```\n",
    "$ liblinear-predict -b 0 <テストデータファイル名> <モデルファイル>　<予測ファイル>\n",
    "$ liblinear-predict -b 0 train.data train.data.model  train.predict\n",
    "Accuracy = 91.665% (276424/301559)\n",
    "```\n",
    "\n",
    "### 注意\n",
    "- liblinearの仕様で１つ目のラベルが0だと結果が反転する\n",
    "- http://dekioto.jugem.jp/?eid=1"
   ]
  },
  {
   "cell_type": "code",
   "execution_count": 1,
   "metadata": {},
   "outputs": [],
   "source": [
    "import json\n",
    "import os\n",
    "import pickle\n",
    "import sys"
   ]
  },
  {
   "cell_type": "code",
   "execution_count": 2,
   "metadata": {},
   "outputs": [
    {
     "data": {
      "text/plain": [
       "['solver_type L2R_LR\\n',\n",
       " 'nr_class 2\\n',\n",
       " 'label 0 1\\n',\n",
       " 'nr_feature 225291\\n',\n",
       " 'bias -1\\n',\n",
       " 'w\\n']"
      ]
     },
     "execution_count": 2,
     "metadata": {},
     "output_type": "execute_result"
    }
   ],
   "source": [
    "# 特徴量の番号と、単語を並べる\n",
    "term_index = json.load( open('term/term_index.json') )\n",
    "index_term = {index:term for term, index in term_index.items()}\n",
    "\n",
    "# 学習したパラメーターを読み込み\n",
    "f = open('svm.dat.model')\n",
    "[next(f) for i in range(6)];"
   ]
  },
  {
   "cell_type": "code",
   "execution_count": 3,
   "metadata": {},
   "outputs": [],
   "source": [
    "# 単語と重み（点数）を生成 （重みは - 部分がつくため）\n",
    "term_weight = {}\n",
    "for index, line in enumerate(f):\n",
    "  line = line.strip()\n",
    "  term_weight[index_term[index]] = -float(line)\n",
    "  #print(index_term[index] , \":\" ,  float(line))\n",
    "    "
   ]
  },
  {
   "cell_type": "code",
   "execution_count": 4,
   "metadata": {},
   "outputs": [
    {
     "name": "stdout",
     "output_type": "stream",
     "text": [
      "５つ -3.147316972878171\n"
     ]
    },
    {
     "ename": "SystemExit",
     "evalue": "",
     "output_type": "error",
     "traceback": [
      "An exception has occurred, use %tb to see the full traceback.\n",
      "\u001b[0;31mSystemExit\u001b[0m\n"
     ]
    },
    {
     "name": "stderr",
     "output_type": "stream",
     "text": [
      "/home/irep/.local/lib/python3.5/site-packages/IPython/core/interactiveshell.py:2918: UserWarning: To exit: use 'exit', 'quit', or Ctrl-D.\n",
      "  warn(\"To exit: use 'exit', 'quit', or Ctrl-D.\", stacklevel=1)\n"
     ]
    }
   ],
   "source": [
    "#単語の点数を保存　→点数計算に使う\n",
    "open('term/term_weight.json', 'w').write( json.dumps(term_weight, indent=2, ensure_ascii=False) )\n",
    "\n",
    "#ランキングを保存　　　→　検証要素の確認\n",
    "for term, weight in sorted(term_weight.items(), key=lambda x:x[1]):\n",
    "  print(term, weight)\n",
    "  sys.exit()\n",
    "\n",
    "# > term_weight.csv で保存"
   ]
  },
  {
   "cell_type": "code",
   "execution_count": null,
   "metadata": {},
   "outputs": [],
   "source": []
  }
 ],
 "metadata": {
  "kernelspec": {
   "display_name": "Python 3",
   "language": "python",
   "name": "python3"
  },
  "language_info": {
   "codemirror_mode": {
    "name": "ipython",
    "version": 3
   },
   "file_extension": ".py",
   "mimetype": "text/x-python",
   "name": "python",
   "nbconvert_exporter": "python",
   "pygments_lexer": "ipython3",
   "version": "3.5.3"
  }
 },
 "nbformat": 4,
 "nbformat_minor": 2
}
