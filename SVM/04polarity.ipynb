{
 "cells": [
  {
   "cell_type": "code",
   "execution_count": 1,
   "metadata": {},
   "outputs": [],
   "source": [
    "import json\n",
    "import glob\n",
    "import gzip\n",
    "import sys\n",
    "import concurrent.futures\n",
    "from collections import Counter\n",
    "import math"
   ]
  },
  {
   "cell_type": "code",
   "execution_count": 2,
   "metadata": {},
   "outputs": [],
   "source": [
    "#ポジネガの辞書読み込み\n",
    "term_weight = json.load(open('term/term_weight.json'))\n",
    "\n",
    "term_positive = { term:weight for term,weight in term_weight.items() if weight > 0.0 }\n",
    "term_negative = { term:weight for term,weight in term_weight.items() if weight < 0.0 }"
   ]
  },
  {
   "cell_type": "code",
   "execution_count": 3,
   "metadata": {},
   "outputs": [
    {
     "name": "stdout",
     "output_type": "stream",
     "text": [
      "696\n",
      "www.traveltowns.jp/news/japan/kanazawa-tokyu-hotels-20141009-new -116.72774366480722 0.3322938555339656 -116.39544980927326\n"
     ]
    }
   ],
   "source": [
    "#BoWを読み込み、点数を付け\n",
    "\n",
    "url_contexts = []\n",
    "def polarity(url):\n",
    "    with gzip.open(url,\"rt\") as f:\n",
    "      context = f.read()\n",
    "    url = url.replace(\"../../../../work/bf/2scraper/bow/\",\"\").replace(\".gz\",\"\")\n",
    "    terms = context.split()\n",
    "\n",
    "    # リスト内で、各単語の出現回数nを数え、{term:log(n+1)} にする\n",
    "    term_freq = dict(Counter(terms))\n",
    "    freqs = len(terms)\n",
    "    print(freqs)\n",
    "    \n",
    "    context = {term:freq/freqs for term, freq in term_freq.items() }\n",
    "\n",
    "    #URLの点数を計算    点数*log(n+1)\n",
    "    nega = sum( [ term_negative[term] * context[term] for term in terms if term_negative.get(term) ] )\n",
    "    posi  = sum( [ term_positive[term] * context[term] for term in terms if term_positive.get(term) ] )\n",
    "    print(url.replace(\"___\",\"/\"),nega,posi,posi+nega)\n",
    "    # > polarity.csv 吐き出し\n",
    "    \n",
    "#テスト\n",
    "urls = glob.glob(\"../../../../work/bf/2scraper/bow/*\")\n",
    "polarity(urls[2])"
   ]
  },
  {
   "cell_type": "code",
   "execution_count": null,
   "metadata": {},
   "outputs": [],
   "source": []
  }
 ],
 "metadata": {
  "kernelspec": {
   "display_name": "Python 3",
   "language": "python",
   "name": "python3"
  },
  "language_info": {
   "codemirror_mode": {
    "name": "ipython",
    "version": 3
   },
   "file_extension": ".py",
   "mimetype": "text/x-python",
   "name": "python",
   "nbconvert_exporter": "python",
   "pygments_lexer": "ipython3",
   "version": "3.5.3"
  }
 },
 "nbformat": 4,
 "nbformat_minor": 2
}
